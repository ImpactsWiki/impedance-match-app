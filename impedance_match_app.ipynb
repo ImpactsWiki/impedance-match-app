{
 "cells": [
  {
   "cell_type": "markdown",
   "id": "b9758744-ad71-4e93-b81a-7dbd1497b9d4",
   "metadata": {},
   "source": [
    "# Impedance Match Tool\n",
    "\n",
    "Note: If tool crashes or does not refresh the plot, try selecting use Hugoniot for release and reshock.\n",
    "In cases of very different impedance materials, the Mie-Grueneisen model can fail.\n"
   ]
  },
  {
   "cell_type": "code",
   "execution_count": null,
   "id": "bc75d93f-d6e1-4238-a385-8501cd7e4c8d",
   "metadata": {
    "tags": [
     "hide_input"
    ]
   },
   "outputs": [],
   "source": [
    "#@title Double-click to collapse code\n",
    "\n",
    "# required python modules\n",
    "import matplotlib.pyplot as plt\n",
    "import numpy as np\n",
    "import pandas as pd\n",
    "from scipy.optimize import curve_fit\n",
    "import panel as pn\n",
    "pn.extension('tabulator')\n",
    "import os\n",
    "from os.path import exists"
   ]
  },
  {
   "cell_type": "code",
   "execution_count": null,
   "id": "59122332-d2a8-4fda-988c-81221c0eec19",
   "metadata": {
    "tags": [
     "hide_input"
    ]
   },
   "outputs": [],
   "source": [
    "#@title Double-click to collapse code\n",
    "import IM_module as IM # load classes and functions required for this impedance match notebook\n",
    "from IM_app import IM_app # contains the widget and IM code\n",
    "# read in materials database\n",
    "matdata, imat = IM.ReadMaterials(matfilename='materials-data.csv') # materials-data.csv is the default file name; can replace with your own file name\n",
    "# run the interactive panel app\n",
    "impedance_match_app=IM_app(matdata,imat,webappbool=True)"
   ]
  },
  {
   "cell_type": "code",
   "execution_count": null,
   "id": "b83ebe53-16a1-4fe1-8c5a-7034cf1b2ec6",
   "metadata": {},
   "outputs": [],
   "source": [
    "impedance_match_app.servable(\"IM Tool\")"
   ]
  },
  {
   "cell_type": "code",
   "execution_count": null,
   "id": "6194726d-79fc-4dfa-9108-c0d1bd4d982c",
   "metadata": {},
   "outputs": [],
   "source": []
  }
 ],
 "metadata": {
  "kernelspec": {
   "display_name": "Python 3 (ipykernel)",
   "language": "python",
   "name": "python3"
  },
  "language_info": {
   "codemirror_mode": {
    "name": "ipython",
    "version": 3
   },
   "file_extension": ".py",
   "mimetype": "text/x-python",
   "name": "python",
   "nbconvert_exporter": "python",
   "pygments_lexer": "ipython3",
   "version": "3.9.12"
  }
 },
 "nbformat": 4,
 "nbformat_minor": 5
}
